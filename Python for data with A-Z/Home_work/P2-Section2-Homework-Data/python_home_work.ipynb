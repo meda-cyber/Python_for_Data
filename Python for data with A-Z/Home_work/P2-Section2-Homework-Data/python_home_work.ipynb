{
 "cells": [
  {
   "cell_type": "code",
   "execution_count": 8,
   "metadata": {},
   "outputs": [],
   "source": [
    "# data\n",
    "import math\n",
    "revenue = [14574.49, 7606.46, 8611.41, 9175.41, 8058.65, 8105.44, 11496.28, 9766.09, 10305.32, 14379.96, 10713.97, 15433.50]\n",
    "expenses = [12051.82, 5695.07, 12319.20, 12089.72, 8658.57, 840.20, 3285.73, 5821.12, 6976.93, 16618.61, 10054.37, 3803.96]"
   ]
  },
  {
   "cell_type": "markdown",
   "metadata": {},
   "source": [
    "Scenario: You are a Data Scientist working for a consulting firm. One of your\n",
    "colleagues from the Auditing department has asked you to help them assess the\n",
    "financial statement of organisation X.\n",
    "You have been supplied with two vectors of data: monthly revenue and monthly\n",
    "expenses for the financial year in question. Your task is to calculate the following\n",
    "financial metrics:\n",
    "- profit for each month\n",
    "- profit after tax for each month (the tax rate is 30%)\n",
    "- profit margin for each month - equals to profit after tax divided by revenue\n",
    "- good months - where the profit after tax was greater than the mean for the year\n",
    "- bad months - where the profit after tax was less than the mean for the year\n",
    "- the best month - where the profit after tax was max for the year\n",
    "- the worst month - where the profit after tax was min for the year"
   ]
  },
  {
   "cell_type": "code",
   "execution_count": 16,
   "metadata": {},
   "outputs": [
    {
     "name": "stdout",
     "output_type": "stream",
     "text": [
      "[2522, 1911, -3708, -2915, -600, 7265, 8210, 3944, 3328, -2239, 659, 11629, 2522, 1911, -3708, -2915, -600, 7265, 8210, 3944, 3328, -2239, 659, 11629, 2522, 1911, -3708, -2915, -600, 7265, 8210, 3944, 3328, -2239, 659, 11629, 2522, 1911, -3708, -2915, -600, 7265, 8210, 3944, 3328, -2239, 659, 11629]\n"
     ]
    }
   ],
   "source": [
    "# profit for every month\n",
    "count = 0\n",
    "list_of_profits = []\n",
    "for i in revenue:\n",
    "    profit = i - expenses[count]\n",
    "    count = count + 1\n",
    "    list_of_profit.append(math.floor(profit))\n",
    "    \n",
    "print(list_of_profit)\n",
    "    "
   ]
  },
  {
   "cell_type": "code",
   "execution_count": 21,
   "metadata": {},
   "outputs": [],
   "source": [
    "# profit after every month ,after cutting the tax for about 30%\n",
    "for pro in list_of_profits:\n",
    "    print(pro)\n",
    "    pro_after_tax = pro-(0.3 * pro)\n",
    "    print(pro_after_tax)"
   ]
  },
  {
   "cell_type": "code",
   "execution_count": null,
   "metadata": {},
   "outputs": [],
   "source": []
  },
  {
   "cell_type": "code",
   "execution_count": null,
   "metadata": {},
   "outputs": [],
   "source": []
  },
  {
   "cell_type": "code",
   "execution_count": null,
   "metadata": {},
   "outputs": [],
   "source": []
  }
 ],
 "metadata": {
  "kernelspec": {
   "display_name": "Python 3",
   "language": "python",
   "name": "python3"
  },
  "language_info": {
   "codemirror_mode": {
    "name": "ipython",
    "version": 3
   },
   "file_extension": ".py",
   "mimetype": "text/x-python",
   "name": "python",
   "nbconvert_exporter": "python",
   "pygments_lexer": "ipython3",
   "version": "3.7.6"
  },
  "toc": {
   "base_numbering": 1,
   "nav_menu": {},
   "number_sections": true,
   "sideBar": true,
   "skip_h1_title": false,
   "title_cell": "Table of Contents",
   "title_sidebar": "Contents",
   "toc_cell": false,
   "toc_position": {},
   "toc_section_display": true,
   "toc_window_display": false
  }
 },
 "nbformat": 4,
 "nbformat_minor": 4
}
